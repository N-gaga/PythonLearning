{
 "cells": [
  {
   "cell_type": "code",
   "execution_count": 1,
   "metadata": {},
   "outputs": [],
   "source": [
    "#На вход подается число.\n",
    "#Задача: определить является ли оно палиндромом.\n",
    "#Важное требование: запрещается конвертировать число в строку и применять реверсирование. \n",
    "#Проверку проводить применяя математические операции к исходному числу."
   ]
  },
  {
   "cell_type": "code",
   "execution_count": 14,
   "metadata": {},
   "outputs": [
    {
     "name": "stdout",
     "output_type": "stream",
     "text": [
      "Введите число: 123321\n",
      "Palindrome\n"
     ]
    }
   ],
   "source": [
    "x = int(input('Введите число: '))\n",
    "\n",
    "reverse = 0\n",
    "y = x\n",
    "while y > 0:\n",
    "    reverse = (reverse * 10) + y % 10\n",
    "    y = y // 10\n",
    "    \n",
    "if x == reverse:\n",
    "    print('Palindrome')\n",
    "else:\n",
    "    print('No palindrome')"
   ]
  }
 ],
 "metadata": {
  "kernelspec": {
   "display_name": "Python 3",
   "language": "python",
   "name": "python3"
  },
  "language_info": {
   "codemirror_mode": {
    "name": "ipython",
    "version": 3
   },
   "file_extension": ".py",
   "mimetype": "text/x-python",
   "name": "python",
   "nbconvert_exporter": "python",
   "pygments_lexer": "ipython3",
   "version": "3.7.6"
  }
 },
 "nbformat": 4,
 "nbformat_minor": 4
}
