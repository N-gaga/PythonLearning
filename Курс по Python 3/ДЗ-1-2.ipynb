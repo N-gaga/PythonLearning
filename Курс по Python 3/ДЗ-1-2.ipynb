{
 "cells": [
  {
   "cell_type": "code",
   "execution_count": 1,
   "metadata": {},
   "outputs": [],
   "source": [
    "#1. Вывести лесенкой символ звёздочки по кол-ву строк, заданных пользователем:\n",
    "#Задача: запросить ввод у пользователя кол-ва строк, вывести звёздочки лесенкой.\n",
    "\n",
    "#- Например, пользователь ввёл число 2. Тогда выводим:\n",
    "#*\n",
    "#**"
   ]
  },
  {
   "cell_type": "code",
   "execution_count": 2,
   "metadata": {},
   "outputs": [
    {
     "name": "stdout",
     "output_type": "stream",
     "text": [
      "Введите количество строк: 5\n",
      "*\n",
      "**\n",
      "***\n",
      "****\n",
      "*****\n"
     ]
    }
   ],
   "source": [
    "x = int(input('Введите количество строк: '))\n",
    "for i in range(x):\n",
    "    print((i+1)*'*')"
   ]
  },
  {
   "cell_type": "code",
   "execution_count": 3,
   "metadata": {},
   "outputs": [],
   "source": [
    "#2. Запросить у пользователя ввод числа. \n",
    "#Задача: построить цикл от 0 до введённого числа (включительно) и для чётных чисел вывести то, что они чётные, а для нечётных, что они нечётные. \n",
    "\n",
    "#Пример вывода:\n",
    "#0 is EVEN\n",
    "#1 is ODD\n",
    "#2 is EVEN"
   ]
  },
  {
   "cell_type": "code",
   "execution_count": 13,
   "metadata": {},
   "outputs": [
    {
     "name": "stdout",
     "output_type": "stream",
     "text": [
      "Введите число: 5\n",
      "0 is EVEN\n",
      "1 is EVEN\n",
      "2 is ODD\n",
      "3 is EVEN\n",
      "4 is ODD\n",
      "5 is EVEN\n"
     ]
    }
   ],
   "source": [
    "x = int(input('Введите число: '))\n",
    "for i in range(0, x+1):\n",
    "    if i%2:\n",
    "        print(f'{i} is EVEN')\n",
    "    elif i == 0:\n",
    "        print(f'{i} is EVEN')\n",
    "    else:\n",
    "        print(f'{i} is ODD')"
   ]
  },
  {
   "cell_type": "code",
   "execution_count": null,
   "metadata": {},
   "outputs": [],
   "source": []
  }
 ],
 "metadata": {
  "kernelspec": {
   "display_name": "Python 3",
   "language": "python",
   "name": "python3"
  },
  "language_info": {
   "codemirror_mode": {
    "name": "ipython",
    "version": 3
   },
   "file_extension": ".py",
   "mimetype": "text/x-python",
   "name": "python",
   "nbconvert_exporter": "python",
   "pygments_lexer": "ipython3",
   "version": "3.7.6"
  }
 },
 "nbformat": 4,
 "nbformat_minor": 4
}
