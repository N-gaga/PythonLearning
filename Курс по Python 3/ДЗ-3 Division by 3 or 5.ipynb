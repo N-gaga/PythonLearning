{
 "cells": [
  {
   "cell_type": "code",
   "execution_count": 3,
   "metadata": {},
   "outputs": [],
   "source": [
    "#Вы получаете ввод числа от пользователя.\n",
    "\n",
    "#Задача: построить цикл от 0 до введённого числа(включительно) и посчитать сумму всех чисел, делимых без остатка на 3 или 5. Вывести на консоль это число."
   ]
  },
  {
   "cell_type": "code",
   "execution_count": 20,
   "metadata": {},
   "outputs": [
    {
     "name": "stdout",
     "output_type": "stream",
     "text": [
      "Введите число: 15\n",
      "sum = 60\n"
     ]
    }
   ],
   "source": [
    "# Вариант 1: через for\n",
    "x = int(input('Введите число: '))\n",
    "y = 0\n",
    "for i in range(0, x+1):\n",
    "    if i % 3 == 0 or i % 5 == 0 or i % 15 == 0:\n",
    "        y += i\n",
    "print(f'sum = {y}')"
   ]
  },
  {
   "cell_type": "code",
   "execution_count": 21,
   "metadata": {},
   "outputs": [
    {
     "name": "stdout",
     "output_type": "stream",
     "text": [
      "Введите число: 15\n",
      "60\n"
     ]
    }
   ],
   "source": [
    "# Вариант 2: Через list comprehension\n",
    "x = int(input('Введите число: '))\n",
    "y = 0\n",
    "y = sum([i for i in range(0, x+1) if i %3 == 0 or i % 5 == 0])\n",
    "print(y)"
   ]
  },
  {
   "cell_type": "code",
   "execution_count": null,
   "metadata": {},
   "outputs": [],
   "source": []
  }
 ],
 "metadata": {
  "kernelspec": {
   "display_name": "Python 3",
   "language": "python",
   "name": "python3"
  },
  "language_info": {
   "codemirror_mode": {
    "name": "ipython",
    "version": 3
   },
   "file_extension": ".py",
   "mimetype": "text/x-python",
   "name": "python",
   "nbconvert_exporter": "python",
   "pygments_lexer": "ipython3",
   "version": "3.7.6"
  }
 },
 "nbformat": 4,
 "nbformat_minor": 4
}
