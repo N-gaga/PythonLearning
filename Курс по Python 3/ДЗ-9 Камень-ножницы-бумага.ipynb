{
 "cells": [
  {
   "cell_type": "code",
   "execution_count": 1,
   "metadata": {},
   "outputs": [],
   "source": [
    "#Написать игру \"камень-ножницы-бумага\" против компьютера. "
   ]
  },
  {
   "cell_type": "code",
   "execution_count": null,
   "metadata": {},
   "outputs": [],
   "source": [
    "import random\n",
    "\n",
    "should_continue = True\n",
    "\n",
    "while should_continue:\n",
    "    player_choice = input('Player choice: [R/S/P]').lower()\n",
    "    \n",
    "    if player_choice not in ['r', 's', 'p']:\n",
    "        print('Incorrect input. Try again')\n",
    "        continue\n",
    "        \n",
    "    gen = {1:'r', 2:'s', 3:'p'}\n",
    "    comp_choice = gen[random.randint(1, 3)]\n",
    "    \n",
    "    print(f'Comp choice = {comp_choice}')\n",
    "    \n",
    "    winning_combinations = [('p', 'r'), ('r', 's'), ('s', 'p')]\n",
    "    \n",
    "    if player_choice == comp_choice:\n",
    "        print('A draw')\n",
    "    elif (player_choice, comp_choice) in winning_combinations:\n",
    "        print('Player wins')\n",
    "    else:\n",
    "        print('Comp wins')\n",
    "        \n",
    "    should_continue = input('Want to proceed? [y/n]').lower() == 'y'"
   ]
  }
 ],
 "metadata": {
  "kernelspec": {
   "display_name": "Python 3",
   "language": "python",
   "name": "python3"
  },
  "language_info": {
   "codemirror_mode": {
    "name": "ipython",
    "version": 3
   },
   "file_extension": ".py",
   "mimetype": "text/x-python",
   "name": "python",
   "nbconvert_exporter": "python",
   "pygments_lexer": "ipython3",
   "version": "3.7.6"
  }
 },
 "nbformat": 4,
 "nbformat_minor": 4
}
