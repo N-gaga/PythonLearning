{
 "cells": [
  {
   "cell_type": "code",
   "execution_count": 1,
   "metadata": {},
   "outputs": [],
   "source": [
    "#Идёт игра в семи-карточный  техасский покер. На столе лежать пять карт и в руке две карты.\n",
    "#Задача: необходимо определить есть ли комбинация, называемая (Flush).\n",
    "#Вот примеры списков, которые будут записаны в эти переменные для проверки вашего решения:\n",
    "# ['A_S', 'J_H', '7_D', '8_D', '10_D'], ['J_D', '3_D']\n",
    "# ['10_S', '7_S', '9_H', '4_S', '3_S'], ['K_S', 'Q_S']\n",
    "# ['3_S', '10_H', '10_D', '10_C', '10_S'], ['3_S', '4_D']"
   ]
  },
  {
   "cell_type": "code",
   "execution_count": 19,
   "metadata": {},
   "outputs": [
    {
     "name": "stdout",
     "output_type": "stream",
     "text": [
      "Flush!\n"
     ]
    }
   ],
   "source": [
    "#Вариант 1: через for\n",
    "table_cards = ['A_S', 'J_H', '7_D', '8_D', '10_D']\n",
    "hand_cards = ['J_D', '3_D']\n",
    "\n",
    "table_suites = [i[-1] for i in table_cards]\n",
    "hand_suites = [i[-1] for i in hand_cards]\n",
    "\n",
    "suites_in_game = table_suites + hand_suites\n",
    "flush = False\n",
    "for suit in 'CHSD':\n",
    "    if suites_in_game.count(suit) >= 5:\n",
    "        flush = True\n",
    "if flush:\n",
    "    print('Flush!')\n",
    "else:\n",
    "    print('Not Flush!')"
   ]
  },
  {
   "cell_type": "code",
   "execution_count": 20,
   "metadata": {},
   "outputs": [
    {
     "name": "stdout",
     "output_type": "stream",
     "text": [
      "Flush!\n"
     ]
    }
   ],
   "source": [
    "#Вариант 2: через list comprehension\n",
    "table_cards = ['A_S', 'J_H', '7_D', '8_D', '10_D']\n",
    "hand_cards = ['J_D', '3_D']\n",
    "\n",
    "table_suites = [i[-1] for i in table_cards]\n",
    "hand_suites = [i[-1] for i in hand_cards]\n",
    "\n",
    "suites_in_game = table_suites + hand_suites\n",
    "\n",
    "flush = any([suites_in_game.count(suit) >= 5 for suit in 'CHSD'])\n",
    "\n",
    "if flush:\n",
    "    print('Flush!')\n",
    "else:\n",
    "    print('Not Flush!')"
   ]
  },
  {
   "cell_type": "code",
   "execution_count": null,
   "metadata": {},
   "outputs": [],
   "source": []
  }
 ],
 "metadata": {
  "kernelspec": {
   "display_name": "Python 3",
   "language": "python",
   "name": "python3"
  },
  "language_info": {
   "codemirror_mode": {
    "name": "ipython",
    "version": 3
   },
   "file_extension": ".py",
   "mimetype": "text/x-python",
   "name": "python",
   "nbconvert_exporter": "python",
   "pygments_lexer": "ipython3",
   "version": "3.7.6"
  }
 },
 "nbformat": 4,
 "nbformat_minor": 4
}
