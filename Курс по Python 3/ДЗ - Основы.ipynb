{
 "cells": [
  {
   "cell_type": "code",
   "execution_count": 2,
   "metadata": {},
   "outputs": [],
   "source": [
    "#1. Клиент покупает кофе в кафе. За каждые 6 чашек, 1 чашка даётся в качестве бонуса.\n",
    "\n",
    "#Задача: запросить у пользователя кол-во чашек на покупку, вычислить полагающееся кол-во бонусных чашек кофе и вывести это число на консоль"
   ]
  },
  {
   "cell_type": "code",
   "execution_count": 5,
   "metadata": {},
   "outputs": [
    {
     "name": "stdout",
     "output_type": "stream",
     "text": [
      "Сколько чашек кофе было куплено?\n",
      "Введите число: 12\n",
      "Бонусных кофе: 2\n"
     ]
    }
   ],
   "source": [
    "print('Сколько чашек кофе было куплено?')\n",
    "x = int(input('Введите число: '))\n",
    "y = x // 6\n",
    "print(f'Бонусных кофе: {y}')"
   ]
  },
  {
   "cell_type": "code",
   "execution_count": 6,
   "metadata": {},
   "outputs": [],
   "source": [
    "#2. Запросить у пользователя координаты x и y двух точек на плоскости. \n",
    "\n",
    "# Задача: посчитать расстояние между заданными точками и вывести результат на консоль с точностью до трёх знаков после запятой (плавающей точки)."
   ]
  },
  {
   "cell_type": "code",
   "execution_count": 10,
   "metadata": {},
   "outputs": [
    {
     "name": "stdout",
     "output_type": "stream",
     "text": [
      "Введите координаты точек.\n",
      "Координаты точки x1 = 15\n",
      "Координаты точки x2 = 12\n",
      "Координаты точки y1 = 11\n",
      "Координаты точки y2 = 13\n",
      "Расстояние между точками равно 3.606\n"
     ]
    }
   ],
   "source": [
    "from math import sqrt\n",
    "print('Введите координаты точек.')\n",
    "x1 = float(input('Координаты точки x1 = '))\n",
    "x2 = float(input('Координаты точки x2 = '))\n",
    "y1 = float(input('Координаты точки y1 = '))\n",
    "y2 = float(input('Координаты точки y2 = '))\n",
    "\n",
    "d = sqrt((x1 - x2)**2+(y1-y2)**2)\n",
    "print(f'Расстояние между точками равно {round(d, 3)}')"
   ]
  },
  {
   "cell_type": "code",
   "execution_count": 11,
   "metadata": {},
   "outputs": [],
   "source": [
    "#3. На ферме есть куры, коровы и свиньи. У курицы две ноги, у свиньи - четыре, у коровы - четыре. \n",
    "# Задача: запросить у пользователя (фермера) ввод кол-ва кур, свиней и коров, просуммировать кол-во ног всех животных и вывести результат на консоль."
   ]
  },
  {
   "cell_type": "code",
   "execution_count": 12,
   "metadata": {},
   "outputs": [
    {
     "name": "stdout",
     "output_type": "stream",
     "text": [
      "Введите количество животных.\n",
      "Сколько куриц: 1\n",
      "Сколько свиней: 1\n",
      "Сколько коров:1\n",
      "Количество всех ног равно 10\n"
     ]
    }
   ],
   "source": [
    "print('Введите количество животных.')\n",
    "x = int(input('Сколько куриц: '))\n",
    "y = int(input('Сколько свиней: '))\n",
    "z = int(input('Сколько коров:'))\n",
    "r = x*2+y*4+z*4\n",
    "print(f'Количество всех ног равно {r}')"
   ]
  },
  {
   "cell_type": "code",
   "execution_count": null,
   "metadata": {},
   "outputs": [],
   "source": []
  }
 ],
 "metadata": {
  "kernelspec": {
   "display_name": "Python 3",
   "language": "python",
   "name": "python3"
  },
  "language_info": {
   "codemirror_mode": {
    "name": "ipython",
    "version": 3
   },
   "file_extension": ".py",
   "mimetype": "text/x-python",
   "name": "python",
   "nbconvert_exporter": "python",
   "pygments_lexer": "ipython3",
   "version": "3.7.6"
  }
 },
 "nbformat": 4,
 "nbformat_minor": 4
}
