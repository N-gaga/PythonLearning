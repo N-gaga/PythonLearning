{
 "cells": [
  {
   "cell_type": "code",
   "execution_count": 1,
   "metadata": {},
   "outputs": [],
   "source": [
    "#На вход подаются два списка чисел длины N.\n",
    "#Задача: взять из первого списка все нечётные числа, из второго чётные и объединить их в новом списке с названием joined_list."
   ]
  },
  {
   "cell_type": "code",
   "execution_count": 6,
   "metadata": {},
   "outputs": [
    {
     "name": "stdout",
     "output_type": "stream",
     "text": [
      "Joined_list = [1, 3, 5, 6, 8, 10]\n"
     ]
    }
   ],
   "source": [
    "#Вариант 1: через for\n",
    "\n",
    "first_list = [1, 2, 3, 4, 5]\n",
    "second_list = [6, 7, 8, 9, 10]\n",
    "\n",
    "joined_list = []\n",
    "for x in first_list:\n",
    "    if x % 2 != 0:\n",
    "        joined_list.append(x)\n",
    "        \n",
    "for x in second_list:\n",
    "    if x % 2 == 0:\n",
    "        joined_list.append(x)\n",
    "\n",
    "print(f'Joined_list = {joined_list}')"
   ]
  },
  {
   "cell_type": "code",
   "execution_count": 8,
   "metadata": {},
   "outputs": [
    {
     "name": "stdout",
     "output_type": "stream",
     "text": [
      "Joined_list = [1, 3, 5, 6, 8, 10]\n"
     ]
    }
   ],
   "source": [
    "#Вариант 2: через list comprehension\n",
    "\n",
    "first_list = [1, 2, 3, 4, 5]\n",
    "second_list = [6, 7, 8, 9, 10]\n",
    "\n",
    "odds = [x for x in first_list if x % 2 != 0]\n",
    "evens = [x for x in second_list if x % 2 == 0]\n",
    "joined_list = odds + evens\n",
    "print(f'Joined_list = {joined_list}')"
   ]
  },
  {
   "cell_type": "code",
   "execution_count": null,
   "metadata": {},
   "outputs": [],
   "source": []
  }
 ],
 "metadata": {
  "kernelspec": {
   "display_name": "Python 3",
   "language": "python",
   "name": "python3"
  },
  "language_info": {
   "codemirror_mode": {
    "name": "ipython",
    "version": 3
   },
   "file_extension": ".py",
   "mimetype": "text/x-python",
   "name": "python",
   "nbconvert_exporter": "python",
   "pygments_lexer": "ipython3",
   "version": "3.7.6"
  }
 },
 "nbformat": 4,
 "nbformat_minor": 4
}
