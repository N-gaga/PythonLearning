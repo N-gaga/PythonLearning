{
 "cells": [
  {
   "cell_type": "code",
   "execution_count": 1,
   "metadata": {},
   "outputs": [],
   "source": [
    "#Реализовать простую игру \"угадай число\". \n",
    "#Компьютер загадывает число от 1 до 50 и даёт 6 попыток.\n",
    "#После ввода числа проверяет и выдаёт подсказку"
   ]
  },
  {
   "cell_type": "code",
   "execution_count": null,
   "metadata": {},
   "outputs": [
    {
     "name": "stdout",
     "output_type": "stream",
     "text": [
      "Введите число: 15\n",
      "Твоё число больше!\n",
      "Введите число: 5\n",
      "Твоё число больше!\n",
      "Введите число: 3\n",
      "Твоё число больше!\n",
      "Введите число: 2\n",
      "Ты угадал!\n"
     ]
    }
   ],
   "source": [
    "import random\n",
    "\n",
    "x = 0\n",
    "\n",
    "number = random.randint(1, 50)\n",
    "\n",
    "while x < 6:\n",
    "    y = int(input(\"Введите число: \"))\n",
    "    \n",
    "    x+=1\n",
    "    if  y < number:\n",
    "        print('Твоё число меньше!')\n",
    "    elif y > number:\n",
    "        print('Твоё число больше!')\n",
    "    elif y == number:\n",
    "        print('Ты угадал!')"
   ]
  },
  {
   "cell_type": "code",
   "execution_count": null,
   "metadata": {},
   "outputs": [],
   "source": []
  }
 ],
 "metadata": {
  "kernelspec": {
   "display_name": "Python 3",
   "language": "python",
   "name": "python3"
  },
  "language_info": {
   "codemirror_mode": {
    "name": "ipython",
    "version": 3
   },
   "file_extension": ".py",
   "mimetype": "text/x-python",
   "name": "python",
   "nbconvert_exporter": "python",
   "pygments_lexer": "ipython3",
   "version": "3.7.6"
  }
 },
 "nbformat": 4,
 "nbformat_minor": 4
}
