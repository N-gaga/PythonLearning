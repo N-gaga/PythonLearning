{
 "cells": [
  {
   "cell_type": "code",
   "execution_count": 1,
   "metadata": {},
   "outputs": [],
   "source": [
    "# Импортируем моудли\n",
    "\n",
    "import sys\n",
    "import numpy as np"
   ]
  },
  {
   "cell_type": "code",
   "execution_count": 3,
   "metadata": {},
   "outputs": [
    {
     "name": "stdout",
     "output_type": "stream",
     "text": [
      "1.0.5\n",
      "1.18.5\n"
     ]
    },
    {
     "name": "stderr",
     "output_type": "stream",
     "text": [
      "C:\\Users\\Max\\anaconda3\\lib\\site-packages\\setuptools\\distutils_patch.py:25: UserWarning: Distutils was imported before Setuptools. This usage is discouraged and may exhibit undesirable behaviors or errors. Please use Setuptools' objects directly or at least import Setuptools first.\n",
      "  warnings.warn(\n"
     ]
    },
    {
     "name": "stdout",
     "output_type": "stream",
     "text": [
      "{'system': {'commit': None, 'python': '3.8.3.final.0', 'python-bits': 64, 'OS': 'Windows', 'OS-release': '10', 'machine': 'AMD64', 'processor': 'Intel64 Family 6 Model 60 Stepping 3, GenuineIntel', 'byteorder': 'little', 'LC_ALL': 'None', 'LANG': 'None', 'LOCALE': 'English_United States.1251'}, 'dependencies': {'pandas': '1.0.5', 'numpy': '1.18.5', 'pytz': '2020.1', 'dateutil': '2.8.1', 'pip': '20.1.1', 'setuptools': '49.2.0.post20200714', 'Cython': '0.29.21', 'pytest': '5.4.3', 'hypothesis': None, 'sphinx': '3.1.2', 'blosc': None, 'feather': None, 'xlsxwriter': '1.2.9', 'lxml.etree': '4.5.2', 'html5lib': '1.1', 'pymysql': None, 'psycopg2': None, 'jinja2': '2.11.2', 'IPython': '7.16.1', 'pandas_datareader': None, 'bs4': '4.9.1', 'bottleneck': '1.3.2', 'fastparquet': None, 'gcsfs': None, 'matplotlib': '3.2.2', 'numexpr': '2.7.1', 'odfpy': None, 'openpyxl': '3.0.4', 'pandas_gbq': None, 'pyarrow': None, 'pytables': None, 'pyxlsb': None, 's3fs': None, 'scipy': '1.5.0', 'sqlalchemy': '1.3.18', 'tables': '3.6.1', 'tabulate': None, 'xarray': None, 'xlrd': '1.2.0', 'xlwt': '1.3.0', 'numba': '0.50.1'}}\n",
      "None\n"
     ]
    }
   ],
   "source": [
    "#1 Импортировать модуль и проверить версию\n",
    "\n",
    "import pandas as pd\n",
    "\n",
    "print(pd.__version__)\n",
    "print(np.__version__)\n",
    "print(pd.show_versions(as_json = True))"
   ]
  },
  {
   "cell_type": "code",
   "execution_count": 4,
   "metadata": {},
   "outputs": [
    {
     "name": "stdout",
     "output_type": "stream",
     "text": [
      "0    a\n",
      "1    b\n",
      "2    c\n",
      "3    d\n",
      "4    e\n",
      "dtype: object\n",
      "0    0\n",
      "1    1\n",
      "2    2\n",
      "3    3\n",
      "4    4\n",
      "dtype: int32\n",
      "a    0\n",
      "b    1\n",
      "c    2\n",
      "d    3\n",
      "e    4\n",
      "dtype: int64\n"
     ]
    }
   ],
   "source": [
    "#2 Создать объект pandas Series из листа, объекта NumPy, и словаря\n",
    "\n",
    "src_list = list('abcde')\n",
    "src_arr = np.arange(5)\n",
    "src_dict = dict(zip(src_list, src_arr))\n",
    "\n",
    "s1 = pd.Series(src_list)\n",
    "s2 = pd.Series(src_arr)\n",
    "s3 = pd.Series(src_dict)\n",
    "\n",
    "print(s1)\n",
    "print(s2)\n",
    "print(s3)"
   ]
  },
  {
   "cell_type": "code",
   "execution_count": 6,
   "metadata": {},
   "outputs": [
    {
     "name": "stdout",
     "output_type": "stream",
     "text": [
      "<bound method Series.to_frame of a      one\n",
      "b      two\n",
      "c    three\n",
      "dtype: object>\n"
     ]
    }
   ],
   "source": [
    "#3 Преобразовать объект Series в DataFrame\n",
    "\n",
    "# создаем объект Series\n",
    "s = pd.Series({'a': 'one', 'b': 'two', 'c': 'three'})\n",
    "\n",
    "# преобразование в DataFrame\n",
    "s = s.to_frame\n",
    "\n",
    "print(s)"
   ]
  },
  {
   "cell_type": "code",
   "execution_count": 7,
   "metadata": {},
   "outputs": [
    {
     "name": "stdout",
     "output_type": "stream",
     "text": [
      "Вариант 1\n",
      "   0  1\n",
      "0  a  0\n",
      "1  b  1\n",
      "2  c  2\n",
      "3  d  3\n",
      "4  e  4\n",
      "\n",
      "Вариант 2\n",
      "  col1  col2\n",
      "0    a     0\n",
      "1    b     1\n",
      "2    c     2\n",
      "3    d     3\n",
      "4    e     4\n"
     ]
    }
   ],
   "source": [
    "#4 Как объединить несколько объектов Series в DataFrame\n",
    "\n",
    "s1 = pd.Series(list('abcde'))\n",
    "s2 = pd.Series(np.arange(5))\n",
    "\n",
    "# Вариант 1\n",
    "df1 = pd.concat([s1, s2], axis = 1)\n",
    "print('Вариант 1')\n",
    "print(df1)\n",
    "print()\n",
    "\n",
    "# Вариант 2\n",
    "df2 = pd.DataFrame({'col1': s1, 'col2': s2})\n",
    "print('Вариант 2')\n",
    "print(df2)"
   ]
  },
  {
   "cell_type": "code",
   "execution_count": 8,
   "metadata": {},
   "outputs": [
    {
     "name": "stdout",
     "output_type": "stream",
     "text": [
      "a    1\n",
      "b    2\n",
      "c    3\n",
      "Name: My_name, dtype: int64\n"
     ]
    }
   ],
   "source": [
    "#5 Присвоить имя индексу объекта Series\n",
    "\n",
    "s = pd.Series({'a': 1, 'b': 2, 'c': 3})\n",
    "s.name = 'My_name'\n",
    "print(s)"
   ]
  },
  {
   "cell_type": "code",
   "execution_count": 9,
   "metadata": {},
   "outputs": [
    {
     "name": "stdout",
     "output_type": "stream",
     "text": [
      "0    1\n",
      "1    2\n",
      "2    3\n",
      "dtype: int64\n",
      "\n",
      "[1 2 3]\n"
     ]
    }
   ],
   "source": [
    "#6 Получить элементы объекта Series A, которых нет в объекте Series B\n",
    "\n",
    "s1 = pd.Series([1, 2, 3, 4, 5])\n",
    "s2 = pd.Series([4, 5, 6, 7, 8])\n",
    "\n",
    "#Возвращает вместе с индексами\n",
    "ans = s1[~s1.isin(s2)]\n",
    "\n",
    "# Возвращает значения\n",
    "ans2 = np.setdiff1d(s1, s2, assume_unique = False)\n",
    "print(ans)\n",
    "print()\n",
    "print(ans2)"
   ]
  },
  {
   "cell_type": "code",
   "execution_count": 11,
   "metadata": {},
   "outputs": [
    {
     "name": "stdout",
     "output_type": "stream",
     "text": [
      "[1 2 3 6 7 8]\n"
     ]
    }
   ],
   "source": [
    "#7 Получить не пересекающиеся элементы в двух объектах Series\n",
    "\n",
    "s1 = pd.Series([1, 2, 3, 4, 5])\n",
    "s2 = pd.Series([4, 5, 6, 7, 8])\n",
    "\n",
    "# Возвращает вместе с индексами\n",
    "\n",
    "# Получаем объединение Series без повторений\n",
    "s_union = pd.Series(np.union1d(s1, s2))\n",
    "# Получаем пересекающиеся данные\n",
    "s_intersect = pd.Series(np.intersect1d(s1, s2))\n",
    "# Отбираем все данные, кроме пересекающихся\n",
    "ans = s_union[~s_union.isin(s_intersect)]\n",
    "\n",
    "# Возвращает значения\n",
    "ans2 = np.setxor1d(s1, s2, assume_unique = False)\n",
    "\n",
    "print(ans2)"
   ]
  },
  {
   "cell_type": "code",
   "execution_count": 13,
   "metadata": {},
   "outputs": [
    {
     "name": "stdout",
     "output_type": "stream",
     "text": [
      "count    25.000000\n",
      "mean      9.182460\n",
      "std       4.782765\n",
      "min       0.433599\n",
      "25%       7.188562\n",
      "50%       8.829315\n",
      "75%      12.483571\n",
      "max      17.896064\n",
      "dtype: float64\n"
     ]
    }
   ],
   "source": [
    "#8 Получить от объекта Series показатели описательной статистики\n",
    "\n",
    "state = np.random.RandomState(42)\n",
    "\n",
    "s = pd.Series(state.normal(10, 5, 25))\n",
    "pkz = s.describe()\n",
    "print(pkz)"
   ]
  },
  {
   "cell_type": "code",
   "execution_count": 15,
   "metadata": {},
   "outputs": [
    {
     "name": "stdout",
     "output_type": "stream",
     "text": [
      "0     k\n",
      "1     f\n",
      "2     f\n",
      "3     k\n",
      "4     e\n",
      "5     e\n",
      "6     b\n",
      "7     g\n",
      "8     b\n",
      "9     h\n",
      "10    b\n",
      "11    d\n",
      "12    e\n",
      "13    a\n",
      "14    f\n",
      "15    e\n",
      "16    i\n",
      "17    a\n",
      "18    i\n",
      "19    b\n",
      "20    i\n",
      "21    e\n",
      "22    a\n",
      "23    g\n",
      "24    b\n",
      "25    e\n",
      "26    g\n",
      "27    b\n",
      "28    k\n",
      "29    k\n",
      "dtype: object\n",
      "\n",
      "b    6\n",
      "e    6\n",
      "k    4\n",
      "g    3\n",
      "f    3\n",
      "a    3\n",
      "i    3\n",
      "h    1\n",
      "d    1\n",
      "dtype: int64\n"
     ]
    }
   ],
   "source": [
    "#9 Узнать частоту уникальных элементов объекта Series (гистограмма)\n",
    "\n",
    "# Создаем объект Series функцией c\n",
    "\n",
    "data = 'abcdefghik'\n",
    "len_series = 30\n",
    "s = pd.Series(np.take(list(data), np.random.randint(len(data), size=len_series)))\n",
    "\n",
    "# Считаем число вхождений\n",
    "ans = s.value_counts()\n",
    "\n",
    "print(s)\n",
    "print()\n",
    "print(ans)"
   ]
  },
  {
   "cell_type": "code",
   "execution_count": 16,
   "metadata": {},
   "outputs": [
    {
     "name": "stdout",
     "output_type": "stream",
     "text": [
      "3    7\n",
      "1    3\n",
      "4    2\n",
      "2    1\n",
      "dtype: int64\n",
      "0         3\n",
      "1     Other\n",
      "2         1\n",
      "3         3\n",
      "4         3\n",
      "5     Other\n",
      "6         1\n",
      "7         1\n",
      "8         3\n",
      "9     Other\n",
      "10        3\n",
      "11        3\n",
      "12        3\n",
      "dtype: object\n"
     ]
    }
   ],
   "source": [
    "#10 Заменить все элементы обекта Series на 'Other', кроме двух наиболее часто встречающихся\n",
    "\n",
    "state = np.random.RandomState(42)\n",
    "s = pd.Series(state.randint(low = 1, high = 5, size = 13))\n",
    "print(s.value_counts())\n",
    "s[~s.isin(s.value_counts().index[:2])] = 'Other'\n",
    "print(s)"
   ]
  },
  {
   "cell_type": "code",
   "execution_count": 19,
   "metadata": {},
   "outputs": [
    {
     "name": "stdout",
     "output_type": "stream",
     "text": [
      "Сумма всех \"вторников\" 24.278509788194015\n",
      "\n",
      "Средние значения по месяцам:\n",
      " 2020-01-31    0.422112\n",
      "2020-02-29    0.564590\n",
      "2020-03-31    0.476823\n",
      "2020-04-30    0.583757\n",
      "2020-05-31    0.496911\n",
      "2020-06-30    0.520556\n",
      "2020-07-31    0.569721\n",
      "2020-08-31    0.447786\n",
      "2020-09-30    0.449423\n",
      "2020-10-31    0.637289\n",
      "2020-11-30    0.441069\n",
      "2020-12-31    0.486070\n",
      "Freq: M, dtype: float64\n",
      "\n"
     ]
    }
   ],
   "source": [
    "#11 Создать объект в Series в индексах дата каждый день 2018 года, в значениях случайное значение\n",
    "\n",
    "#1 Найти сумму всех вторников\n",
    "#2 Для каждого месяца найти среднее значение\n",
    "\n",
    "dti = pd.date_range(start='2020-01-01', end='2020-12-31', freq = 'B')\n",
    "s = pd.Series(np.random.rand(len(dti)), index = dti)\n",
    "\n",
    "#1\n",
    "ans1 = s[s.index.weekday == 2].sum()\n",
    "print('Сумма всех \"вторников\"', ans1)\n",
    "print()\n",
    "\n",
    "#2\n",
    "ans2 = s.resample('M').mean()\n",
    "print('Средние значения по месяцам:\\n', ans2)\n",
    "print()"
   ]
  },
  {
   "cell_type": "code",
   "execution_count": 21,
   "metadata": {},
   "outputs": [
    {
     "name": "stdout",
     "output_type": "stream",
     "text": [
      "   0  1  2  3  4\n",
      "0  6  4  9  1  6\n",
      "1  6  8  7  8  4\n",
      "2  9  2  1  5  1\n",
      "3  9  8  5  7  6\n",
      "4  6  5  1  1  6\n",
      "5  8  8  2  6  5\n",
      "6  6  5  8  7  7\n"
     ]
    }
   ],
   "source": [
    "#12 Преобразовать объект Series в DataFrame заданной формы(shape)\n",
    "\n",
    "s = pd.Series(np.random.randint(low = 1, high = 10, size = [35]))\n",
    "\n",
    "# преобразование в reshape\n",
    "r = (7, 5)\n",
    "\n",
    "if r[0] * r[1] != len(s):\n",
    "    sys.exit('Не возможно применить reshape')\n",
    "\n",
    "df = pd.DataFrame(s.values.reshape(r))\n",
    "\n",
    "print(df)"
   ]
  },
  {
   "cell_type": "code",
   "execution_count": 27,
   "metadata": {},
   "outputs": [
    {
     "name": "stdout",
     "output_type": "stream",
     "text": [
      "Int64Index([0, 1, 2, 3], dtype='int64')\n"
     ]
    }
   ],
   "source": [
    "#13 Найти индексы объекта Series кратные 3\n",
    "\n",
    "s = pd.Series(np.random.randint(low = 1, high = 10, size =[7]))\n",
    "\n",
    "# вариант 1 - выдаёт ошибку, разобраться\n",
    "#ans1 = np.argwhere(s % 3==0).flatten()\n",
    "#print(ans1)\n",
    "#print()\n",
    "\n",
    "# вариант 2\n",
    "ans2 = s[s %  3 == 0].index\n",
    "print(ans2)"
   ]
  },
  {
   "cell_type": "code",
   "execution_count": 28,
   "metadata": {},
   "outputs": [
    {
     "name": "stdout",
     "output_type": "stream",
     "text": [
      "0     a\n",
      "4     e\n",
      "8     i\n",
      "14    o\n",
      "20    u\n",
      "10    k\n",
      "dtype: object\n",
      "\n",
      "0     a\n",
      "4     e\n",
      "8     i\n",
      "14    o\n",
      "20    u\n",
      "10    k\n",
      "dtype: object\n"
     ]
    }
   ],
   "source": [
    "#14 Получить данные по индексам объекта Series\n",
    "\n",
    "s = pd.Series(list('abcdefghijklmnopqrstuvwxyz'))\n",
    "p = [0, 4, 8, 14, 20, 10]\n",
    "\n",
    "# Вариант 1\n",
    "ans1 = s[p]\n",
    "print(ans1)\n",
    "print()\n",
    "\n",
    "# Вариант 2 (take - также может использовать многоуровневые массиавы)\n",
    "ans2 = s.take(p)\n",
    "print(ans2)"
   ]
  },
  {
   "cell_type": "code",
   "execution_count": 29,
   "metadata": {},
   "outputs": [
    {
     "name": "stdout",
     "output_type": "stream",
     "text": [
      "0    0\n",
      "1    1\n",
      "2    2\n",
      "3    3\n",
      "4    4\n",
      "0    a\n",
      "1    b\n",
      "2    c\n",
      "3    d\n",
      "4    e\n",
      "dtype: object\n",
      "\n",
      "   0  1\n",
      "0  0  a\n",
      "1  1  b\n",
      "2  2  c\n",
      "3  3  d\n",
      "4  4  e\n"
     ]
    }
   ],
   "source": [
    "#15 Объединить два объекта Series вертикально и горизонтально\n",
    "\n",
    "s1 = pd.Series(range(5))\n",
    "s2 = pd.Series(list('abcde'))\n",
    "\n",
    "ans_vertical = s1.append(s2)\n",
    "ans_horizontal = pd.concat([s1, s2], axis = 1)\n",
    "\n",
    "print(ans_vertical)\n",
    "print()\n",
    "print(ans_horizontal)"
   ]
  },
  {
   "cell_type": "code",
   "execution_count": 34,
   "metadata": {},
   "outputs": [
    {
     "name": "stdout",
     "output_type": "stream",
     "text": [
      "[3 0 6 2]\n",
      "\n",
      "[3 0 6 2]\n",
      "\n"
     ]
    }
   ],
   "source": [
    "#16 Получить индексы объекта Series A, данные которых содержатся в объекте Series B\n",
    "\n",
    "s1 = pd.Series([5,3, 2, 1, 4, 11, 13, 8, 7])\n",
    "s2 = pd.Series([1, 5, 13, 2])\n",
    "\n",
    "# Вариант 1 (медленный)\n",
    "ans1 = np.asarray([np.where(i == s1) [0].tolist()[0] for i in s2])\n",
    "print(ans1)\n",
    "print()\n",
    "\n",
    "# Вариант 2 (медленный)\n",
    "ans2 = np.asarray([pd.Index(s1).get_loc(i) for i in s2])\n",
    "print(ans2)\n",
    "print()\n",
    "\n",
    "#Вариант 3(быстрый) - ошибка\n",
    "#ans3 = np.argwhere(s1.isin(s2)).flatten()\n",
    "#print(ans3)"
   ]
  },
  {
   "cell_type": "code",
   "execution_count": 38,
   "metadata": {},
   "outputs": [
    {
     "name": "stdout",
     "output_type": "stream",
     "text": [
      "0    1\n",
      "1    7\n",
      "2    8\n",
      "3    4\n",
      "4    2\n",
      "dtype: int32\n"
     ]
    }
   ],
   "source": [
    "#17 Получить объект Series B, который содержит элементы без повторений объекта A\n",
    "\n",
    "s = pd.Series(np.random.randint(low = 1, high = 10, size = [10]))\n",
    "ans = pd.Series(s.unique())\n",
    "print(ans)"
   ]
  },
  {
   "cell_type": "code",
   "execution_count": 40,
   "metadata": {},
   "outputs": [
    {
     "name": "stdout",
     "output_type": "stream",
     "text": [
      "0           Life\n",
      "1             Is\n",
      "2    Interesting\n",
      "dtype: object\n",
      "\n",
      "0           Life\n",
      "1             Is\n",
      "2    Interesting\n",
      "dtype: object\n"
     ]
    }
   ],
   "source": [
    "#18 Преобразовать каждый символ объекта в верхний регистр \n",
    "\n",
    "s = pd.Series(['life', 'is', 'interesting'])\n",
    "\n",
    "# преобразование данных в Series в строку\n",
    "s = pd.Series(str(i) for i in s)\n",
    "\n",
    "# Вариант 1\n",
    "ans1 = s.map(lambda x: x.title())\n",
    "print(ans1)\n",
    "print()\n",
    "\n",
    "#Вариант 2\n",
    "ans2 = pd.Series(i.title() for i in s)\n",
    "print(ans2)"
   ]
  },
  {
   "cell_type": "code",
   "execution_count": 41,
   "metadata": {},
   "outputs": [
    {
     "name": "stdout",
     "output_type": "stream",
     "text": [
      "[3 3 5 4 4]\n",
      "\n",
      "[3 3 5 4 4]\n"
     ]
    }
   ],
   "source": [
    "#19 Рассчитать количество символов в объекте Series\n",
    "\n",
    "s = pd.Series(['one', 'two', 'three', 'four', 'five'])\n",
    "# преобразование в строковый тип\n",
    "s = pd.Series(str(i) for i in s)\n",
    "\n",
    "# Вариант 1\n",
    "ans1 = np.asarray(s.map(lambda x: len(x)))\n",
    "print(ans1)\n",
    "print()\n",
    "\n",
    "# Вариант 2\n",
    "ans2 = np.asarray([len(i) for i in s])\n",
    "print(ans2)"
   ]
  },
  {
   "cell_type": "code",
   "execution_count": 42,
   "metadata": {},
   "outputs": [
    {
     "name": "stdout",
     "output_type": "stream",
     "text": [
      "0    NaN\n",
      "1    4.0\n",
      "2    2.0\n",
      "3    1.0\n",
      "4    4.0\n",
      "5    3.0\n",
      "6    2.0\n",
      "dtype: float64\n"
     ]
    }
   ],
   "source": [
    "#20 Найти разность между объектом Series и смещением объекта Series на n\n",
    "\n",
    "n = 1\n",
    "\n",
    "s = pd.Series([1, 5, 7, 8, 12, 15, 17])\n",
    "\n",
    "ans = s.diff(periods = n)\n",
    "\n",
    "print(ans)"
   ]
  },
  {
   "cell_type": "code",
   "execution_count": 49,
   "metadata": {},
   "outputs": [
    {
     "name": "stdout",
     "output_type": "stream",
     "text": [
      "0   2017-01-01\n",
      "1   2015-02-02\n",
      "2   2019-01-15\n",
      "dtype: datetime64[ns]\n",
      "\n",
      "0   2019-02-14\n",
      "1   2019-01-22\n",
      "2   2019-03-01\n",
      "dtype: datetime64[ns]\n"
     ]
    }
   ],
   "source": [
    "#21 Преобразовать разные форматы строк объекта Series в доту\n",
    "\n",
    "s = pd.Series(['2017/01/01', '2015-02-02', '15 Jan 2019'])\n",
    "\n",
    "# Возможно нестабильное решение, необходимо корректно указать строковые значения, т.к. могут быть перепутаны месяц и день\n",
    "ans = pd.to_datetime(s)\n",
    "\n",
    "print(ans)\n",
    "print()\n",
    "\n",
    "#21.1 Поскольку работа с датой часто встречается в работе, то см. ещё один пример\n",
    "\n",
    "# все данные должные иметь одинаковый формат (часто бывает выгрузка из SQL)\n",
    "s = pd.Series(['14.02.2019', '22.01.2019', '01.03.2019'])\n",
    "\n",
    "# преобразование в дату\n",
    "ans = pd.to_datetime(s, format = '%d.%m.%Y')\n",
    "print(ans)"
   ]
  },
  {
   "cell_type": "code",
   "execution_count": 56,
   "metadata": {},
   "outputs": [
    {
     "name": "stdout",
     "output_type": "stream",
     "text": [
      "0    2018\n",
      "1    2011\n",
      "2    2012\n",
      "3    2013\n",
      "4    2018\n",
      "dtype: int64\n",
      "0     1\n",
      "1     2\n",
      "2     3\n",
      "3     4\n",
      "4    12\n",
      "dtype: int64\n",
      "0     1\n",
      "1     2\n",
      "2     3\n",
      "3     4\n",
      "4    31\n",
      "dtype: int64\n",
      "0     1\n",
      "1     5\n",
      "2     9\n",
      "3    14\n",
      "4     1\n",
      "dtype: int64\n",
      "0      1\n",
      "1     33\n",
      "2     63\n",
      "3     94\n",
      "4    365\n",
      "dtype: int64\n"
     ]
    }
   ],
   "source": [
    "#22 Получить год, месяц, день, день недели, номер дня в году от объекта Series (string)\n",
    "\n",
    "from dateutil.parser import parse\n",
    "\n",
    "s = pd.Series(['01 Jan 2018', '02-02-2011', '20120303', '2013/04/04', '2018-12-31'])\n",
    "\n",
    "# парсим дату и время\n",
    "s_ts = s.map(lambda x: parse(x, yearfirst = True))\n",
    "\n",
    "# получаем года\n",
    "print(s_ts.dt.year)\n",
    "\n",
    "# получаем месяц\n",
    "print(s_ts.dt.month)\n",
    "\n",
    "# получаем дни\n",
    "print(s_ts.dt.day)\n",
    "\n",
    "#получаем номер недели\n",
    "print(s_ts.dt.weekofyear)\n",
    "\n",
    "# получаем номер дня в году\n",
    "print(s_ts.dt.dayofyear)"
   ]
  },
  {
   "cell_type": "code",
   "execution_count": 57,
   "metadata": {},
   "outputs": [
    {
     "name": "stdout",
     "output_type": "stream",
     "text": [
      "0   2010-01-04\n",
      "1   2011-02-04\n",
      "2   2012-03-04\n",
      "dtype: datetime64[ns]\n"
     ]
    }
   ],
   "source": [
    "#23 Преобразовать даты месяца и года к 7-ому дню\n",
    "\n",
    "from dateutil.parser import parse\n",
    "\n",
    "s = pd.Series(['Jan 2010', 'Feb 2011', 'Mar 2012'])\n",
    "\n",
    "ans = s.map(lambda x: parse('04' + x))\n",
    "\n",
    "print(ans)"
   ]
  },
  {
   "cell_type": "code",
   "execution_count": 60,
   "metadata": {},
   "outputs": [
    {
     "name": "stdout",
     "output_type": "stream",
     "text": [
      "0      Яблоко\n",
      "1      Orange\n",
      "4    Апельсин\n",
      "6    Reliance\n",
      "dtype: object\n"
     ]
    }
   ],
   "source": [
    "#24 Отобрать элементы объекта Series, которые содержат не менее двух гласных\n",
    "\n",
    "from collections import Counter\n",
    "\n",
    "s =pd.Series(['Яблоко', 'Orange', 'Plan', 'Python', 'Апельсин', 'Стол', 'Reliance'])\n",
    "mask = s.map(lambda x: sum([Counter(x.lower()).get(i, 0) for i in list(\"aeiouаоиеёэыуюя\")]) >= 2)\n",
    "ans = s[mask]\n",
    "print(ans)"
   ]
  },
  {
   "cell_type": "code",
   "execution_count": 61,
   "metadata": {},
   "outputs": [
    {
     "name": "stdout",
     "output_type": "stream",
     "text": [
      "Series([], dtype: object)\n"
     ]
    }
   ],
   "source": [
    "#25 Отобрать е-маилы из объекта Series\n",
    "\n",
    "# модуль для работы с регулярными выражениями\n",
    "import re\n",
    "\n",
    "emails = pd.Series(['test text@test.com', 'test@mail.ru', 'test.2ru', 'test@pp'])\n",
    "pattern = '[A-Za-z0-9._%+-]+@[A-Za-z0-9.-]+\\\\.[A-Za-z]{2, 4}'\n",
    "mask = emails.map(lambda x: bool(re.match(pattern, x)))\n",
    "ans = emails[mask]\n",
    "print(ans)"
   ]
  },
  {
   "cell_type": "code",
   "execution_count": 62,
   "metadata": {},
   "outputs": [
    {
     "name": "stdout",
     "output_type": "stream",
     "text": [
      "bird     6.000000\n",
      "cat      2.666667\n",
      "dog      5.000000\n",
      "horse    9.500000\n",
      "dtype: float64\n"
     ]
    }
   ],
   "source": [
    "#26 Получить среднее значение каждого уникального объекта Series s1 через \"маску\"другого объекта Series s2\n",
    "\n",
    "n = 10\n",
    "s1 = pd.Series(np.random.choice(['dog', 'cat', 'horse', 'bird'], n))\n",
    "s2 = pd.Series(np.linspace(1, n, n))\n",
    "ans = s2.groupby(s1).mean()\n",
    "print(ans)"
   ]
  },
  {
   "cell_type": "code",
   "execution_count": 63,
   "metadata": {},
   "outputs": [
    {
     "name": "stdout",
     "output_type": "stream",
     "text": [
      "7.280109889280518\n",
      "\n",
      "7.280109889280518\n"
     ]
    }
   ],
   "source": [
    "#27 Найти евклидово расстояние между двумя объектами Series\n",
    "\n",
    "n = 3\n",
    "\n",
    "s1 = pd.Series(np.random.randint(low = 1, high = 10, size = [n]))\n",
    "s2 = pd.Series(np.random.randint(low = 1, high = 10, size = [n]))\n",
    "\n",
    "ans = np.linalg.norm(s1-s2)\n",
    "ans2 = sum((s1 - s2) ** 2) ** 0.5\n",
    "print(ans)\n",
    "print()\n",
    "print(ans2)"
   ]
  },
  {
   "cell_type": "code",
   "execution_count": 66,
   "metadata": {},
   "outputs": [
    {
     "name": "stdout",
     "output_type": "stream",
     "text": [
      "[3 6 9]\n"
     ]
    }
   ],
   "source": [
    "#28 Найти индексы локальных максимумов в объекте Series\n",
    "\n",
    "s = pd.Series([1, 5, 7, 11, 8, 4, 12, 5, 8, 16, 8])\n",
    "dd = np.diff(np.sign(np.diff(s)))\n",
    "ans = np.where(dd == -2) [0] + 1\n",
    "print(ans)"
   ]
  },
  {
   "cell_type": "code",
   "execution_count": 68,
   "metadata": {},
   "outputs": [
    {
     "data": {
      "text/plain": [
       "'bnbnbernkekbndare'"
      ]
     },
     "execution_count": 68,
     "metadata": {},
     "output_type": "execute_result"
    }
   ],
   "source": [
    "#29 Заменить пробелы в наименее часто встречающимся символом\n",
    "\n",
    "str_test = 'bnb ber kekb dare'\n",
    "\n",
    "s = pd.Series(list(str_test))\n",
    "freq = s.value_counts()\n",
    "least_freq = freq.dropna().index[-1]\n",
    "''. join(s.replace(' ', least_freq))"
   ]
  },
  {
   "cell_type": "code",
   "execution_count": 69,
   "metadata": {},
   "outputs": [
    {
     "name": "stdout",
     "output_type": "stream",
     "text": [
      "2018-01-06    6\n",
      "2018-01-13    7\n",
      "2018-01-20    9\n",
      "2018-01-27    7\n",
      "2018-02-03    9\n",
      "2018-02-10    4\n",
      "2018-02-17    7\n",
      "2018-02-24    7\n",
      "2018-03-03    3\n",
      "2018-03-10    9\n",
      "Freq: W-SAT, dtype: int32\n"
     ]
    }
   ],
   "source": [
    "#30 Создать объект Series, который содержит в индексах даты выходных дней субботы, а в значениях случайные числа от 1 до 10\n",
    "\n",
    "s = pd.Series(np.random.randint(low = 1, high = 10, size = [10]), pd.date_range('2018-01-01', periods=10, freq='W-SAT'))\n",
    "print(s)"
   ]
  },
  {
   "cell_type": "code",
   "execution_count": 71,
   "metadata": {},
   "outputs": [
    {
     "name": "stdout",
     "output_type": "stream",
     "text": [
      "2020-01-01    2.0\n",
      "2020-01-02    2.0\n",
      "2020-01-03    5.0\n",
      "2020-01-04    5.0\n",
      "2020-01-05    5.0\n",
      "2020-01-06    8.0\n",
      "2020-01-07    8.0\n",
      "2020-01-08    NaN\n",
      "Freq: D, dtype: float64\n",
      "\n",
      "2020-01-01    2.0\n",
      "2020-01-02    5.0\n",
      "2020-01-03    5.0\n",
      "2020-01-04    8.0\n",
      "2020-01-05    8.0\n",
      "2020-01-06    8.0\n",
      "2020-01-07    NaN\n",
      "2020-01-08    NaN\n",
      "Freq: D, dtype: float64\n"
     ]
    }
   ],
   "source": [
    "#31 Заполнить пропущенные даты, значением выше (заполненной даты)\n",
    "\n",
    "s = pd.Series([2, 5, 8, np.nan], index = pd.to_datetime(['2020-01-01', '2020-01-03', '2020-01-06', '2020-01-08']))\n",
    "# заполнить предыдущими значениями\n",
    "ans = s.resample('D').ffill()\n",
    "# заполнить последующими значениями\n",
    "ans2 = s.resample('D').bfill()\n",
    "print(ans)\n",
    "print()\n",
    "print(ans2)"
   ]
  },
  {
   "cell_type": "code",
   "execution_count": 72,
   "metadata": {},
   "outputs": [
    {
     "name": "stdout",
     "output_type": "stream",
     "text": [
      "[1.0, 0.8, 0.79, 0.89, 0.7, 0.7, 0.81, 0.67, 0.71, 0.74, 0.53, 0.73, 0.77, 0.54, 0.4, 0.73, -0.42, -0.15, -1.0, nan]\n"
     ]
    },
    {
     "name": "stderr",
     "output_type": "stream",
     "text": [
      "C:\\Users\\Max\\anaconda3\\lib\\site-packages\\numpy\\lib\\function_base.py:2526: RuntimeWarning: Degrees of freedom <= 0 for slice\n",
      "  c = cov(x, y, rowvar)\n",
      "C:\\Users\\Max\\anaconda3\\lib\\site-packages\\numpy\\lib\\function_base.py:2455: RuntimeWarning: divide by zero encountered in true_divide\n",
      "  c *= np.true_divide(1, fact)\n"
     ]
    }
   ],
   "source": [
    "#32 Вычислить автокорреляцию объекта Series \n",
    "\n",
    "n = 20\n",
    "\n",
    "s = pd.Series(np.arange(n))\n",
    "s = s + np.random.normal(1, 3, n)\n",
    "\n",
    "autocorr = [s.autocorr(lag = i).round(2) for i in range(n)]\n",
    "\n",
    "print(autocorr)"
   ]
  },
  {
   "cell_type": "code",
   "execution_count": null,
   "metadata": {},
   "outputs": [],
   "source": []
  }
 ],
 "metadata": {
  "kernelspec": {
   "display_name": "Python 3",
   "language": "python",
   "name": "python3"
  },
  "language_info": {
   "codemirror_mode": {
    "name": "ipython",
    "version": 3
   },
   "file_extension": ".py",
   "mimetype": "text/x-python",
   "name": "python",
   "nbconvert_exporter": "python",
   "pygments_lexer": "ipython3",
   "version": "3.8.3"
  }
 },
 "nbformat": 4,
 "nbformat_minor": 4
}
